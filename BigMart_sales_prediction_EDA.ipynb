{
 "cells": [
  {
   "cell_type": "markdown",
   "id": "0daff03a",
   "metadata": {},
   "source": [
    "## Exploratory Data Analysis for BigMart sales data"
   ]
  },
  {
   "cell_type": "code",
   "execution_count": 1,
   "id": "ac3ebb06",
   "metadata": {},
   "outputs": [],
   "source": [
    "#Importing necessary libraries\n",
    "import pandas as pd\n",
    "import numpy as np\n",
    "import seaborn as sns\n",
    "import matplotlib.pyplot as plt\n",
    "from sklearn.preprocessing import OrdinalEncoder, LabelEncoder\n",
    "from sklearn.model_selection import train_test_split, RandomizedSearchCV\n",
    "from sklearn.metrics import mean_squared_error, r2_score, mean_absolute_error\n",
    "from catboost import CatBoostRegressor, Pool, cv"
   ]
  },
  {
   "cell_type": "code",
   "execution_count": 2,
   "id": "3bf98180",
   "metadata": {},
   "outputs": [
    {
     "name": "stdout",
     "output_type": "stream",
     "text": [
      "Train -(8523, 12), Test -(5681, 11)\n"
     ]
    }
   ],
   "source": [
    "#Importing datasets\n",
    "train = pd.read_csv(\"//Users//anushreesv//Downloads//ABB_coding_test//train_v9rqX0R.csv\")\n",
    "test = pd.read_csv(\"//Users//anushreesv//Downloads//ABB_coding_test//test_AbJTz2l.csv\")\n",
    "print(f\"Train -{train.shape}, Test -{test.shape}\")"
   ]
  },
  {
   "cell_type": "code",
   "execution_count": 3,
   "id": "5378d00f",
   "metadata": {},
   "outputs": [
    {
     "data": {
      "text/plain": [
       "(14204, 12)"
      ]
     },
     "execution_count": 3,
     "metadata": {},
     "output_type": "execute_result"
    }
   ],
   "source": [
    "## Concat the above datasets for preprocessing\n",
    "sales_data=pd.concat([train,test],axis=0)\n",
    "sales_data.shape"
   ]
  },
  {
   "cell_type": "markdown",
   "id": "600c2081",
   "metadata": {},
   "source": [
    "Check for duplicate rows in the data:"
   ]
  },
  {
   "cell_type": "code",
   "execution_count": null,
   "id": "1540383f",
   "metadata": {},
   "outputs": [
    {
     "data": {
      "text/plain": [
       "0"
      ]
     },
     "execution_count": 36,
     "metadata": {},
     "output_type": "execute_result"
    }
   ],
   "source": [
    "len(sales_data[sales_data.duplicated()==True])\n",
    "# No duplicate rows"
   ]
  },
  {
   "cell_type": "code",
   "execution_count": 4,
   "id": "4a5867d3",
   "metadata": {},
   "outputs": [
    {
     "name": "stdout",
     "output_type": "stream",
     "text": [
      "<class 'pandas.core.frame.DataFrame'>\n",
      "Index: 14204 entries, 0 to 5680\n",
      "Data columns (total 12 columns):\n",
      " #   Column                     Non-Null Count  Dtype  \n",
      "---  ------                     --------------  -----  \n",
      " 0   Item_Identifier            14204 non-null  object \n",
      " 1   Item_Weight                11765 non-null  float64\n",
      " 2   Item_Fat_Content           14204 non-null  object \n",
      " 3   Item_Visibility            14204 non-null  float64\n",
      " 4   Item_Type                  14204 non-null  object \n",
      " 5   Item_MRP                   14204 non-null  float64\n",
      " 6   Outlet_Identifier          14204 non-null  object \n",
      " 7   Outlet_Establishment_Year  14204 non-null  int64  \n",
      " 8   Outlet_Size                10188 non-null  object \n",
      " 9   Outlet_Location_Type       14204 non-null  object \n",
      " 10  Outlet_Type                14204 non-null  object \n",
      " 11  Item_Outlet_Sales          8523 non-null   float64\n",
      "dtypes: float64(4), int64(1), object(7)\n",
      "memory usage: 1.4+ MB\n"
     ]
    }
   ],
   "source": [
    "sales_data.info()"
   ]
  },
  {
   "cell_type": "markdown",
   "id": "73c88412",
   "metadata": {},
   "source": [
    "\n",
    " We can see from above that Item_Weight and Outlet_Size have missing values. We will handle them in the preprocessing step."
   ]
  },
  {
   "cell_type": "code",
   "execution_count": 5,
   "id": "c9295715",
   "metadata": {},
   "outputs": [
    {
     "name": "stdout",
     "output_type": "stream",
     "text": [
      "Numerical features: Index(['Item_Weight', 'Item_Visibility', 'Item_MRP',\n",
      "       'Outlet_Establishment_Year', 'Item_Outlet_Sales'],\n",
      "      dtype='object')\n",
      "Categorical features: Index(['Item_Identifier', 'Item_Fat_Content', 'Item_Type', 'Outlet_Identifier',\n",
      "       'Outlet_Size', 'Outlet_Location_Type', 'Outlet_Type'],\n",
      "      dtype='object')\n"
     ]
    }
   ],
   "source": [
    "num_cols=sales_data.select_dtypes(include=['int64','float64']).columns\n",
    "print(f\"Numerical features: {num_cols}\")\n",
    "cat_cols=sales_data.select_dtypes(include=['object']).columns\n",
    "print(f\"Categorical features: {cat_cols}\")"
   ]
  },
  {
   "cell_type": "code",
   "execution_count": 7,
   "id": "93f77a5e",
   "metadata": {},
   "outputs": [
    {
     "data": {
      "text/html": [
       "<div>\n",
       "<style scoped>\n",
       "    .dataframe tbody tr th:only-of-type {\n",
       "        vertical-align: middle;\n",
       "    }\n",
       "\n",
       "    .dataframe tbody tr th {\n",
       "        vertical-align: top;\n",
       "    }\n",
       "\n",
       "    .dataframe thead th {\n",
       "        text-align: right;\n",
       "    }\n",
       "</style>\n",
       "<table border=\"1\" class=\"dataframe\">\n",
       "  <thead>\n",
       "    <tr style=\"text-align: right;\">\n",
       "      <th></th>\n",
       "      <th>count</th>\n",
       "      <th>unique</th>\n",
       "      <th>top</th>\n",
       "      <th>freq</th>\n",
       "      <th>mean</th>\n",
       "      <th>std</th>\n",
       "      <th>min</th>\n",
       "      <th>25%</th>\n",
       "      <th>50%</th>\n",
       "      <th>75%</th>\n",
       "      <th>max</th>\n",
       "    </tr>\n",
       "  </thead>\n",
       "  <tbody>\n",
       "    <tr>\n",
       "      <th>Item_Identifier</th>\n",
       "      <td>14204</td>\n",
       "      <td>1559</td>\n",
       "      <td>FDU15</td>\n",
       "      <td>10</td>\n",
       "      <td>NaN</td>\n",
       "      <td>NaN</td>\n",
       "      <td>NaN</td>\n",
       "      <td>NaN</td>\n",
       "      <td>NaN</td>\n",
       "      <td>NaN</td>\n",
       "      <td>NaN</td>\n",
       "    </tr>\n",
       "    <tr>\n",
       "      <th>Item_Weight</th>\n",
       "      <td>11765.0</td>\n",
       "      <td>NaN</td>\n",
       "      <td>NaN</td>\n",
       "      <td>NaN</td>\n",
       "      <td>12.792854</td>\n",
       "      <td>4.652502</td>\n",
       "      <td>4.555</td>\n",
       "      <td>8.71</td>\n",
       "      <td>12.6</td>\n",
       "      <td>16.75</td>\n",
       "      <td>21.35</td>\n",
       "    </tr>\n",
       "    <tr>\n",
       "      <th>Item_Fat_Content</th>\n",
       "      <td>14204</td>\n",
       "      <td>5</td>\n",
       "      <td>Low Fat</td>\n",
       "      <td>8485</td>\n",
       "      <td>NaN</td>\n",
       "      <td>NaN</td>\n",
       "      <td>NaN</td>\n",
       "      <td>NaN</td>\n",
       "      <td>NaN</td>\n",
       "      <td>NaN</td>\n",
       "      <td>NaN</td>\n",
       "    </tr>\n",
       "    <tr>\n",
       "      <th>Item_Visibility</th>\n",
       "      <td>14204.0</td>\n",
       "      <td>NaN</td>\n",
       "      <td>NaN</td>\n",
       "      <td>NaN</td>\n",
       "      <td>0.065953</td>\n",
       "      <td>0.051459</td>\n",
       "      <td>0.0</td>\n",
       "      <td>0.027036</td>\n",
       "      <td>0.054021</td>\n",
       "      <td>0.094037</td>\n",
       "      <td>0.328391</td>\n",
       "    </tr>\n",
       "    <tr>\n",
       "      <th>Item_Type</th>\n",
       "      <td>14204</td>\n",
       "      <td>16</td>\n",
       "      <td>Fruits and Vegetables</td>\n",
       "      <td>2013</td>\n",
       "      <td>NaN</td>\n",
       "      <td>NaN</td>\n",
       "      <td>NaN</td>\n",
       "      <td>NaN</td>\n",
       "      <td>NaN</td>\n",
       "      <td>NaN</td>\n",
       "      <td>NaN</td>\n",
       "    </tr>\n",
       "    <tr>\n",
       "      <th>Item_MRP</th>\n",
       "      <td>14204.0</td>\n",
       "      <td>NaN</td>\n",
       "      <td>NaN</td>\n",
       "      <td>NaN</td>\n",
       "      <td>141.004977</td>\n",
       "      <td>62.086938</td>\n",
       "      <td>31.29</td>\n",
       "      <td>94.012</td>\n",
       "      <td>142.247</td>\n",
       "      <td>185.8556</td>\n",
       "      <td>266.8884</td>\n",
       "    </tr>\n",
       "    <tr>\n",
       "      <th>Outlet_Identifier</th>\n",
       "      <td>14204</td>\n",
       "      <td>10</td>\n",
       "      <td>OUT027</td>\n",
       "      <td>1559</td>\n",
       "      <td>NaN</td>\n",
       "      <td>NaN</td>\n",
       "      <td>NaN</td>\n",
       "      <td>NaN</td>\n",
       "      <td>NaN</td>\n",
       "      <td>NaN</td>\n",
       "      <td>NaN</td>\n",
       "    </tr>\n",
       "    <tr>\n",
       "      <th>Outlet_Establishment_Year</th>\n",
       "      <td>14204.0</td>\n",
       "      <td>NaN</td>\n",
       "      <td>NaN</td>\n",
       "      <td>NaN</td>\n",
       "      <td>1997.830681</td>\n",
       "      <td>8.371664</td>\n",
       "      <td>1985.0</td>\n",
       "      <td>1987.0</td>\n",
       "      <td>1999.0</td>\n",
       "      <td>2004.0</td>\n",
       "      <td>2009.0</td>\n",
       "    </tr>\n",
       "    <tr>\n",
       "      <th>Outlet_Size</th>\n",
       "      <td>10188</td>\n",
       "      <td>3</td>\n",
       "      <td>Medium</td>\n",
       "      <td>4655</td>\n",
       "      <td>NaN</td>\n",
       "      <td>NaN</td>\n",
       "      <td>NaN</td>\n",
       "      <td>NaN</td>\n",
       "      <td>NaN</td>\n",
       "      <td>NaN</td>\n",
       "      <td>NaN</td>\n",
       "    </tr>\n",
       "    <tr>\n",
       "      <th>Outlet_Location_Type</th>\n",
       "      <td>14204</td>\n",
       "      <td>3</td>\n",
       "      <td>Tier 3</td>\n",
       "      <td>5583</td>\n",
       "      <td>NaN</td>\n",
       "      <td>NaN</td>\n",
       "      <td>NaN</td>\n",
       "      <td>NaN</td>\n",
       "      <td>NaN</td>\n",
       "      <td>NaN</td>\n",
       "      <td>NaN</td>\n",
       "    </tr>\n",
       "    <tr>\n",
       "      <th>Outlet_Type</th>\n",
       "      <td>14204</td>\n",
       "      <td>4</td>\n",
       "      <td>Supermarket Type1</td>\n",
       "      <td>9294</td>\n",
       "      <td>NaN</td>\n",
       "      <td>NaN</td>\n",
       "      <td>NaN</td>\n",
       "      <td>NaN</td>\n",
       "      <td>NaN</td>\n",
       "      <td>NaN</td>\n",
       "      <td>NaN</td>\n",
       "    </tr>\n",
       "    <tr>\n",
       "      <th>Item_Outlet_Sales</th>\n",
       "      <td>8523.0</td>\n",
       "      <td>NaN</td>\n",
       "      <td>NaN</td>\n",
       "      <td>NaN</td>\n",
       "      <td>2181.288914</td>\n",
       "      <td>1706.499616</td>\n",
       "      <td>33.29</td>\n",
       "      <td>834.2474</td>\n",
       "      <td>1794.331</td>\n",
       "      <td>3101.2964</td>\n",
       "      <td>13086.9648</td>\n",
       "    </tr>\n",
       "  </tbody>\n",
       "</table>\n",
       "</div>"
      ],
      "text/plain": [
       "                             count unique                    top  freq  \\\n",
       "Item_Identifier              14204   1559                  FDU15    10   \n",
       "Item_Weight                11765.0    NaN                    NaN   NaN   \n",
       "Item_Fat_Content             14204      5                Low Fat  8485   \n",
       "Item_Visibility            14204.0    NaN                    NaN   NaN   \n",
       "Item_Type                    14204     16  Fruits and Vegetables  2013   \n",
       "Item_MRP                   14204.0    NaN                    NaN   NaN   \n",
       "Outlet_Identifier            14204     10                 OUT027  1559   \n",
       "Outlet_Establishment_Year  14204.0    NaN                    NaN   NaN   \n",
       "Outlet_Size                  10188      3                 Medium  4655   \n",
       "Outlet_Location_Type         14204      3                 Tier 3  5583   \n",
       "Outlet_Type                  14204      4      Supermarket Type1  9294   \n",
       "Item_Outlet_Sales           8523.0    NaN                    NaN   NaN   \n",
       "\n",
       "                                  mean          std     min       25%  \\\n",
       "Item_Identifier                    NaN          NaN     NaN       NaN   \n",
       "Item_Weight                  12.792854     4.652502   4.555      8.71   \n",
       "Item_Fat_Content                   NaN          NaN     NaN       NaN   \n",
       "Item_Visibility               0.065953     0.051459     0.0  0.027036   \n",
       "Item_Type                          NaN          NaN     NaN       NaN   \n",
       "Item_MRP                    141.004977    62.086938   31.29    94.012   \n",
       "Outlet_Identifier                  NaN          NaN     NaN       NaN   \n",
       "Outlet_Establishment_Year  1997.830681     8.371664  1985.0    1987.0   \n",
       "Outlet_Size                        NaN          NaN     NaN       NaN   \n",
       "Outlet_Location_Type               NaN          NaN     NaN       NaN   \n",
       "Outlet_Type                        NaN          NaN     NaN       NaN   \n",
       "Item_Outlet_Sales          2181.288914  1706.499616   33.29  834.2474   \n",
       "\n",
       "                                50%        75%         max  \n",
       "Item_Identifier                 NaN        NaN         NaN  \n",
       "Item_Weight                    12.6      16.75       21.35  \n",
       "Item_Fat_Content                NaN        NaN         NaN  \n",
       "Item_Visibility            0.054021   0.094037    0.328391  \n",
       "Item_Type                       NaN        NaN         NaN  \n",
       "Item_MRP                    142.247   185.8556    266.8884  \n",
       "Outlet_Identifier               NaN        NaN         NaN  \n",
       "Outlet_Establishment_Year    1999.0     2004.0      2009.0  \n",
       "Outlet_Size                     NaN        NaN         NaN  \n",
       "Outlet_Location_Type            NaN        NaN         NaN  \n",
       "Outlet_Type                     NaN        NaN         NaN  \n",
       "Item_Outlet_Sales          1794.331  3101.2964  13086.9648  "
      ]
     },
     "execution_count": 7,
     "metadata": {},
     "output_type": "execute_result"
    }
   ],
   "source": [
    "sales_data.describe(include='all').T"
   ]
  },
  {
   "cell_type": "markdown",
   "id": "34000de0",
   "metadata": {},
   "source": [
    "1. Numerical features"
   ]
  },
  {
   "cell_type": "markdown",
   "id": "143490d1",
   "metadata": {},
   "source": [
    "We will explore numerical columns with some charts to see outliers"
   ]
  },
  {
   "cell_type": "code",
   "execution_count": 13,
   "id": "9da0dd84",
   "metadata": {},
   "outputs": [
    {
     "data": {
      "image/png": "[encoded data removed]",
      "text/plain": [
       "<Figure size 1500x500 with 5 Axes>"
      ]
     },
     "metadata": {},
     "output_type": "display_data"
    }
   ],
   "source": [
    "\n",
    "fig, axes = plt.subplots(nrows=1, ncols=len(num_cols), figsize=(15, 5))\n",
    "\n",
    "for i, col in enumerate(num_cols):\n",
    "    sales_data.boxplot(column=col, ax=axes[i])\n",
    "    axes[i].set_title(f'Box Plot of {col}')\n",
    "    axes[i].set_ylabel(f'{col} Value')\n",
    "\n",
    "plt.tight_layout()\n",
    "\n",
    "plt.show()"
   ]
  },
  {
   "cell_type": "markdown",
   "id": "168fce11",
   "metadata": {},
   "source": [
    "We see some outliers in Item_Visibility and Item_Outlet_Sales. We will try to fix them. \n",
    "Lets see some percentiles for these columns"
   ]
  },
  {
   "cell_type": "code",
   "execution_count": 23,
   "id": "1ee1e664",
   "metadata": {},
   "outputs": [],
   "source": [
    "\n",
    "def get_percentiles(column_name):\n",
    "    percentiles = sales_data[column_name].quantile(percentile_list)\n",
    "    print(percentiles)"
   ]
  },
  {
   "cell_type": "code",
   "execution_count": 24,
   "id": "869682de",
   "metadata": {},
   "outputs": [],
   "source": [
    "percentile_list=[0,0.01,0.02,0.03,0.04,0.05,0.1,0.5, 0.75, 0.9, 0.95, 0.95,0.97,0.98,0.99,1]"
   ]
  },
  {
   "cell_type": "code",
   "execution_count": 26,
   "id": "b287b1b5",
   "metadata": {},
   "outputs": [
    {
     "name": "stdout",
     "output_type": "stream",
     "text": [
      "0.00       33.290000\n",
      "0.01       83.890800\n",
      "0.02      115.476352\n",
      "0.03      145.583828\n",
      "0.04      169.699104\n",
      "0.05      188.421400\n",
      "0.10      343.552800\n",
      "0.50     1794.331000\n",
      "0.75     3101.296400\n",
      "0.90     4570.051200\n",
      "0.95     5522.811000\n",
      "0.95     5522.811000\n",
      "0.97     6094.307088\n",
      "0.98     6623.831144\n",
      "0.99     7366.011720\n",
      "1.00    13086.964800\n",
      "Name: Item_Outlet_Sales, dtype: float64\n"
     ]
    }
   ],
   "source": [
    "get_percentiles('Item_Outlet_Sales')"
   ]
  },
  {
   "cell_type": "markdown",
   "id": "8dd6a9ca",
   "metadata": {},
   "source": [
    "We see a big shift after 99th percentile indicating the outliers, similarly we can treat the values to the left of 1st percentile"
   ]
  },
  {
   "cell_type": "code",
   "execution_count": 27,
   "id": "91f10be3",
   "metadata": {},
   "outputs": [
    {
     "name": "stdout",
     "output_type": "stream",
     "text": [
      "0.00    0.000000\n",
      "0.01    0.000000\n",
      "0.02    0.000000\n",
      "0.03    0.000000\n",
      "0.04    0.000000\n",
      "0.05    0.000000\n",
      "0.10    0.011797\n",
      "0.50    0.054021\n",
      "0.75    0.094037\n",
      "0.90    0.137645\n",
      "0.95    0.163299\n",
      "0.95    0.163299\n",
      "0.97    0.176182\n",
      "0.98    0.187841\n",
      "0.99    0.230385\n",
      "1.00    0.328391\n",
      "Name: Item_Visibility, dtype: float64\n"
     ]
    }
   ],
   "source": [
    "get_percentiles('Item_Visibility')"
   ]
  },
  {
   "cell_type": "markdown",
   "id": "489e243c",
   "metadata": {},
   "source": [
    "We see that lower 5 percentiles are all zeros. Lets find out how many are there."
   ]
  },
  {
   "cell_type": "code",
   "execution_count": 32,
   "id": "23e83ec7",
   "metadata": {},
   "outputs": [
    {
     "data": {
      "text/plain": [
       "879"
      ]
     },
     "execution_count": 32,
     "metadata": {},
     "output_type": "execute_result"
    }
   ],
   "source": [
    "len(sales_data[sales_data['Item_Visibility']==0])"
   ]
  },
  {
   "cell_type": "markdown",
   "id": "378fe830",
   "metadata": {},
   "source": [
    "We treat the above 879 values as missing and impute the avg wrt the item category"
   ]
  },
  {
   "cell_type": "code",
   "execution_count": 29,
   "id": "c41505c5",
   "metadata": {},
   "outputs": [],
   "source": [
    "def kde_plot(column_name):\n",
    "    sns.kdeplot(sales_data[column_name], fill=True)\n",
    "    plt.title(f'KDE Plot of {column_name}')\n",
    "    plt.xlabel('Value')\n",
    "    plt.ylabel('Density')\n",
    "    plt.show()"
   ]
  },
  {
   "cell_type": "markdown",
   "id": "42d0bb32",
   "metadata": {},
   "source": [
    "We also see from cell 7 that there are missing values in Item_Weight, we will fill it based on Item_Type"
   ]
  },
  {
   "cell_type": "markdown",
   "id": "737ab12e",
   "metadata": {},
   "source": [
    "Outlet_Establishment_Year - We know from the problem statement that this is sales data for 2013. So we calculate years of operation from this and keep that as a feature as it is more intuitive than just the year."
   ]
  },
  {
   "cell_type": "markdown",
   "id": "12c0331f",
   "metadata": {},
   "source": [
    "2. Categorical Features:"
   ]
  },
  {
   "cell_type": "code",
   "execution_count": 42,
   "id": "c479acef",
   "metadata": {},
   "outputs": [
    {
     "data": {
      "text/plain": [
       "Item_Fat_Content\n",
       "Low Fat    8485\n",
       "Regular    4824\n",
       "LF          522\n",
       "reg         195\n",
       "low fat     178\n",
       "Name: count, dtype: int64"
      ]
     },
     "execution_count": 42,
     "metadata": {},
     "output_type": "execute_result"
    }
   ],
   "source": [
    "#Item_Fat_Content\n",
    "sales_data.Item_Fat_Content.value_counts(dropna=False)"
   ]
  },
  {
   "cell_type": "markdown",
   "id": "0ac81822",
   "metadata": {},
   "source": [
    "We see inconsistency in the naming of the categories, we replace LF,low fat with Low Fat and reg with Regular so that there will be only 2 categories in this feature."
   ]
  },
  {
   "cell_type": "code",
   "execution_count": 43,
   "id": "33ed8ad6",
   "metadata": {},
   "outputs": [
    {
     "data": {
      "text/plain": [
       "Item_Type\n",
       "Fruits and Vegetables    2013\n",
       "Snack Foods              1989\n",
       "Household                1548\n",
       "Frozen Foods             1426\n",
       "Dairy                    1136\n",
       "Baking Goods             1086\n",
       "Canned                   1084\n",
       "Health and Hygiene        858\n",
       "Meat                      736\n",
       "Soft Drinks               726\n",
       "Breads                    416\n",
       "Hard Drinks               362\n",
       "Others                    280\n",
       "Starchy Foods             269\n",
       "Breakfast                 186\n",
       "Seafood                    89\n",
       "Name: count, dtype: int64"
      ]
     },
     "execution_count": 43,
     "metadata": {},
     "output_type": "execute_result"
    }
   ],
   "source": [
    "sales_data.Item_Type.value_counts(dropna=False)"
   ]
  },
  {
   "cell_type": "markdown",
   "id": "9cc9a460",
   "metadata": {},
   "source": [
    "There are too many categories in this feature which can be combined into meaningful bins. We combine them in order to get 3 main categories - Food, Beverages, Non-Consumable-Items."
   ]
  },
  {
   "cell_type": "code",
   "execution_count": 44,
   "id": "160a1cbb",
   "metadata": {},
   "outputs": [
    {
     "data": {
      "text/plain": [
       "Outlet_Size\n",
       "Medium    4655\n",
       "NaN       4016\n",
       "Small     3980\n",
       "High      1553\n",
       "Name: count, dtype: int64"
      ]
     },
     "execution_count": 44,
     "metadata": {},
     "output_type": "execute_result"
    }
   ],
   "source": [
    "sales_data.Outlet_Size.value_counts(dropna=False)"
   ]
  },
  {
   "cell_type": "markdown",
   "id": "76524dcf",
   "metadata": {},
   "source": [
    "We see some missing values, we will impute them by checking its distribution."
   ]
  },
  {
   "cell_type": "code",
   "execution_count": 54,
   "id": "ef1a0e11",
   "metadata": {},
   "outputs": [
    {
     "name": "stderr",
     "output_type": "stream",
     "text": [
      "/var/folders/pt/jz9vxx4s68v7d19rjcfym6p80000gn/T/ipykernel_45198/2205672358.py:2: SettingWithCopyWarning: \n",
      "A value is trying to be set on a copy of a slice from a DataFrame.\n",
      "Try using .loc[row_indexer,col_indexer] = value instead\n",
      "\n",
      "See the caveats in the documentation: https://pandas.pydata.org/pandas-docs/stable/user_guide/indexing.html#returning-a-view-versus-a-copy\n",
      "  sales_data_sub['Outlet_Size']=np.where(sales_data_sub.Outlet_Size.isnull(),'missing',sales_data_sub.Outlet_Size)\n"
     ]
    },
    {
     "data": {
      "text/plain": [
       "Outlet_Size\n",
       "Medium     4655\n",
       "missing    4016\n",
       "Small      3980\n",
       "High       1553\n",
       "Name: count, dtype: int64"
      ]
     },
     "execution_count": 54,
     "metadata": {},
     "output_type": "execute_result"
    }
   ],
   "source": [
    "sales_data_sub=sales_data[['Outlet_Size','Item_Outlet_Sales']]\n",
    "sales_data_sub['Outlet_Size']=np.where(sales_data_sub.Outlet_Size.isnull(),'missing',sales_data_sub.Outlet_Size)\n",
    "sales_data_sub['Outlet_Size'].value_counts(dropna=False)"
   ]
  },
  {
   "cell_type": "code",
   "execution_count": 55,
   "id": "eb084330",
   "metadata": {},
   "outputs": [
    {
     "data": {
      "image/png": "[encoded data removed]",
      "text/plain": [
       "<Figure size 640x480 with 1 Axes>"
      ]
     },
     "metadata": {},
     "output_type": "display_data"
    }
   ],
   "source": [
    "sns.violinplot(x=\"Outlet_Size\", y=\"Item_Outlet_Sales\", data=sales_data_sub,)\n",
    "plt.title(\"Sales by outlet type\")\n",
    "plt.show()"
   ]
  },
  {
   "cell_type": "markdown",
   "id": "190ac0db",
   "metadata": {},
   "source": [
    "We see similar distribution for small and missing so we will impute the missing values with Small"
   ]
  },
  {
   "cell_type": "code",
   "execution_count": 45,
   "id": "7384ca00",
   "metadata": {},
   "outputs": [
    {
     "data": {
      "text/plain": [
       "Outlet_Location_Type\n",
       "Tier 3    5583\n",
       "Tier 2    4641\n",
       "Tier 1    3980\n",
       "Name: count, dtype: int64"
      ]
     },
     "execution_count": 45,
     "metadata": {},
     "output_type": "execute_result"
    }
   ],
   "source": [
    "sales_data.Outlet_Location_Type.value_counts(dropna=False)"
   ]
  },
  {
   "cell_type": "code",
   "execution_count": 46,
   "id": "64b5a884",
   "metadata": {},
   "outputs": [
    {
     "data": {
      "text/plain": [
       "Outlet_Type\n",
       "Supermarket Type1    9294\n",
       "Grocery Store        1805\n",
       "Supermarket Type3    1559\n",
       "Supermarket Type2    1546\n",
       "Name: count, dtype: int64"
      ]
     },
     "execution_count": 46,
     "metadata": {},
     "output_type": "execute_result"
    }
   ],
   "source": [
    "sales_data.Outlet_Type.value_counts(dropna=False)"
   ]
  },
  {
   "cell_type": "markdown",
   "id": "0c00da2d",
   "metadata": {},
   "source": [
    "Analysing relationship between features"
   ]
  },
  {
   "cell_type": "code",
   "execution_count": 47,
   "id": "c53840e2",
   "metadata": {},
   "outputs": [
    {
     "data": {
      "text/html": [
       "<div>\n",
       "<style scoped>\n",
       "    .dataframe tbody tr th:only-of-type {\n",
       "        vertical-align: middle;\n",
       "    }\n",
       "\n",
       "    .dataframe tbody tr th {\n",
       "        vertical-align: top;\n",
       "    }\n",
       "\n",
       "    .dataframe thead th {\n",
       "        text-align: right;\n",
       "    }\n",
       "</style>\n",
       "<table border=\"1\" class=\"dataframe\">\n",
       "  <thead>\n",
       "    <tr style=\"text-align: right;\">\n",
       "      <th>Outlet_Location_Type</th>\n",
       "      <th>Tier 1</th>\n",
       "      <th>Tier 2</th>\n",
       "      <th>Tier 3</th>\n",
       "    </tr>\n",
       "    <tr>\n",
       "      <th>Outlet_Size</th>\n",
       "      <th></th>\n",
       "      <th></th>\n",
       "      <th></th>\n",
       "    </tr>\n",
       "  </thead>\n",
       "  <tbody>\n",
       "    <tr>\n",
       "      <th>High</th>\n",
       "      <td>0</td>\n",
       "      <td>0</td>\n",
       "      <td>1553</td>\n",
       "    </tr>\n",
       "    <tr>\n",
       "      <th>Medium</th>\n",
       "      <td>1550</td>\n",
       "      <td>0</td>\n",
       "      <td>3105</td>\n",
       "    </tr>\n",
       "    <tr>\n",
       "      <th>Small</th>\n",
       "      <td>2430</td>\n",
       "      <td>1550</td>\n",
       "      <td>0</td>\n",
       "    </tr>\n",
       "  </tbody>\n",
       "</table>\n",
       "</div>"
      ],
      "text/plain": [
       "Outlet_Location_Type  Tier 1  Tier 2  Tier 3\n",
       "Outlet_Size                                 \n",
       "High                       0       0    1553\n",
       "Medium                  1550       0    3105\n",
       "Small                   2430    1550       0"
      ]
     },
     "execution_count": 47,
     "metadata": {},
     "output_type": "execute_result"
    }
   ],
   "source": [
    "pd.crosstab(sales_data.Outlet_Size,sales_data.Outlet_Location_Type)"
   ]
  },
  {
   "cell_type": "code",
   "execution_count": 49,
   "id": "840b0a72",
   "metadata": {},
   "outputs": [
    {
     "data": {
      "text/html": [
       "<div>\n",
       "<style scoped>\n",
       "    .dataframe tbody tr th:only-of-type {\n",
       "        vertical-align: middle;\n",
       "    }\n",
       "\n",
       "    .dataframe tbody tr th {\n",
       "        vertical-align: top;\n",
       "    }\n",
       "\n",
       "    .dataframe thead th {\n",
       "        text-align: right;\n",
       "    }\n",
       "</style>\n",
       "<table border=\"1\" class=\"dataframe\">\n",
       "  <thead>\n",
       "    <tr style=\"text-align: right;\">\n",
       "      <th>Outlet_Location_Type</th>\n",
       "      <th>Tier 1</th>\n",
       "      <th>Tier 2</th>\n",
       "      <th>Tier 3</th>\n",
       "    </tr>\n",
       "    <tr>\n",
       "      <th>Outlet_Size</th>\n",
       "      <th></th>\n",
       "      <th></th>\n",
       "      <th></th>\n",
       "    </tr>\n",
       "  </thead>\n",
       "  <tbody>\n",
       "    <tr>\n",
       "      <th>False</th>\n",
       "      <td>3980</td>\n",
       "      <td>1550</td>\n",
       "      <td>4658</td>\n",
       "    </tr>\n",
       "    <tr>\n",
       "      <th>True</th>\n",
       "      <td>0</td>\n",
       "      <td>3091</td>\n",
       "      <td>925</td>\n",
       "    </tr>\n",
       "  </tbody>\n",
       "</table>\n",
       "</div>"
      ],
      "text/plain": [
       "Outlet_Location_Type  Tier 1  Tier 2  Tier 3\n",
       "Outlet_Size                                 \n",
       "False                   3980    1550    4658\n",
       "True                       0    3091     925"
      ]
     },
     "execution_count": 49,
     "metadata": {},
     "output_type": "execute_result"
    }
   ],
   "source": [
    "pd.crosstab(sales_data.Outlet_Size.isnull(),sales_data.Outlet_Location_Type)"
   ]
  },
  {
   "cell_type": "code",
   "execution_count": 48,
   "id": "8e4f9905",
   "metadata": {},
   "outputs": [
    {
     "data": {
      "text/html": [
       "<div>\n",
       "<style scoped>\n",
       "    .dataframe tbody tr th:only-of-type {\n",
       "        vertical-align: middle;\n",
       "    }\n",
       "\n",
       "    .dataframe tbody tr th {\n",
       "        vertical-align: top;\n",
       "    }\n",
       "\n",
       "    .dataframe thead th {\n",
       "        text-align: right;\n",
       "    }\n",
       "</style>\n",
       "<table border=\"1\" class=\"dataframe\">\n",
       "  <thead>\n",
       "    <tr style=\"text-align: right;\">\n",
       "      <th>Outlet_Type</th>\n",
       "      <th>Grocery Store</th>\n",
       "      <th>Supermarket Type1</th>\n",
       "      <th>Supermarket Type2</th>\n",
       "      <th>Supermarket Type3</th>\n",
       "    </tr>\n",
       "    <tr>\n",
       "      <th>Outlet_Size</th>\n",
       "      <th></th>\n",
       "      <th></th>\n",
       "      <th></th>\n",
       "      <th></th>\n",
       "    </tr>\n",
       "  </thead>\n",
       "  <tbody>\n",
       "    <tr>\n",
       "      <th>High</th>\n",
       "      <td>0</td>\n",
       "      <td>1553</td>\n",
       "      <td>0</td>\n",
       "      <td>0</td>\n",
       "    </tr>\n",
       "    <tr>\n",
       "      <th>Medium</th>\n",
       "      <td>0</td>\n",
       "      <td>1550</td>\n",
       "      <td>1546</td>\n",
       "      <td>1559</td>\n",
       "    </tr>\n",
       "    <tr>\n",
       "      <th>Small</th>\n",
       "      <td>880</td>\n",
       "      <td>3100</td>\n",
       "      <td>0</td>\n",
       "      <td>0</td>\n",
       "    </tr>\n",
       "  </tbody>\n",
       "</table>\n",
       "</div>"
      ],
      "text/plain": [
       "Outlet_Type  Grocery Store  Supermarket Type1  Supermarket Type2  \\\n",
       "Outlet_Size                                                        \n",
       "High                     0               1553                  0   \n",
       "Medium                   0               1550               1546   \n",
       "Small                  880               3100                  0   \n",
       "\n",
       "Outlet_Type  Supermarket Type3  \n",
       "Outlet_Size                     \n",
       "High                         0  \n",
       "Medium                    1559  \n",
       "Small                        0  "
      ]
     },
     "execution_count": 48,
     "metadata": {},
     "output_type": "execute_result"
    }
   ],
   "source": [
    "pd.crosstab(sales_data.Outlet_Size,sales_data.Outlet_Type)"
   ]
  }
 ],
 "metadata": {
  "kernelspec": {
   "display_name": "base",
   "language": "python",
   "name": "python3"
  },
  "language_info": {
   "codemirror_mode": {
    "name": "ipython",
    "version": 3
   },
   "file_extension": ".py",
   "mimetype": "text/x-python",
   "name": "python",
   "nbconvert_exporter": "python",
   "pygments_lexer": "ipython3",
   "version": "3.11.5"
  }
 },
 "nbformat": 4,
 "nbformat_minor": 5
}
